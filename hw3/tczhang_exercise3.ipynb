{
 "cells": [
  {
   "cell_type": "code",
   "execution_count": 1,
   "metadata": {},
   "outputs": [],
   "source": [
    "import GPy, GPyOpt\n",
    "import numpy as np\n",
    "import math, time"
   ]
  },
  {
   "cell_type": "code",
   "execution_count": 2,
   "metadata": {},
   "outputs": [],
   "source": [
    "def ReadDataExercise3(filepath):\n",
    "    data = []\n",
    "    with open(filepath) as f:\n",
    "        f.readline()\n",
    "        for line in f:\n",
    "            line = line.strip().split(',')\n",
    "            data.append(line[-2:])        \n",
    "    return data"
   ]
  },
  {
   "cell_type": "code",
   "execution_count": 3,
   "metadata": {},
   "outputs": [
    {
     "name": "stdout",
     "output_type": "stream",
     "text": [
      "9051\n"
     ]
    }
   ],
   "source": [
    "filepath = 'ex3_data.csv'\n",
    "data = ReadDataExercise3(filepath)\n",
    "print(len(data))"
   ]
  },
  {
   "cell_type": "code",
   "execution_count": 4,
   "metadata": {},
   "outputs": [],
   "source": [
    "def OneHotEncodePeptide(sequence):\n",
    "    num_aa = len(sequence)\n",
    "    AminoAcids = [\n",
    "        \"G\", \"A\", \"S\", \"P\", \"V\",\n",
    "        \"T\", \"C\", \"I\", \"L\", \"N\",\n",
    "        \"D\", \"K\", \"Q\", \"E\", \"M\",\n",
    "        \"H\", \"F\", \"R\", \"Y\", \"W\"\n",
    "    ]\n",
    "    AminoAcids = sorted(AminoAcids)\n",
    "    AA_Dictionary = {key:i for i,key in enumerate(AminoAcids)}\n",
    "    \n",
    "    one_hot_seq = np.zeros((num_aa,len(AminoAcids)), dtype = float)\n",
    "    for i, letter in enumerate(sequence):\n",
    "        one_hot_seq[i,AA_Dictionary[letter]] = 1\n",
    "    return one_hot_seq.flatten()\n",
    "    "
   ]
  },
  {
   "cell_type": "code",
   "execution_count": 5,
   "metadata": {},
   "outputs": [
    {
     "name": "stdout",
     "output_type": "stream",
     "text": [
      "Feature Shape: (9051, 180) \n",
      "Label Shape: (9051,)\n"
     ]
    }
   ],
   "source": [
    "oh_data = [OneHotEncodePeptide(str(x[0])) for x in data]\n",
    "processed_data = [[a, *b] for a,b in zip(oh_data, data)] # one-hot encoded, aa_sequence, label\n",
    "x = np.array([ele[0] for ele in processed_data])\n",
    "x_seq = [ele[1] for ele in processed_data]\n",
    "y = np.array([float(ele[2]) for ele in processed_data])  \n",
    "print('Feature Shape:', x.shape, '\\nLabel Shape:', y.shape)"
   ]
  },
  {
   "cell_type": "markdown",
   "metadata": {},
   "source": [
    "Gaussian Process"
   ]
  },
  {
   "cell_type": "code",
   "execution_count": 9,
   "metadata": {},
   "outputs": [],
   "source": [
    "def SplitData(x, y, split_percent, seed):\n",
    "    \"\"\"\n",
    "    Split x and y into a training and testing set.\n",
    "    Input:\n",
    "    x (np.ndarray): Features. (N x m)\n",
    "    y (np.ndarray): Labels. (N)\n",
    "    split_percent (float): Percent of data to use for initial training set (labeled).\n",
    "    seed (float): seed for randomizer.\n",
    "\n",
    "    Output:\n",
    "    x_lab, y_lab, x_unlab, y_unlab (np.ndarray): The split datasets.\n",
    "    \"\"\"\n",
    "    # Split data into test and train.\n",
    "    rng = np.random.default_rng(seed)\n",
    "    shuffled_idx = np.arange(x.shape[0])\n",
    "    rng.shuffle(shuffled_idx)\n",
    "    shuffled_x = x[shuffled_idx]\n",
    "    shuffled_y = y[shuffled_idx]\n",
    "\n",
    "    n = len(y)\n",
    "    x_lab = shuffled_x[:int(n*split_percent)]\n",
    "    y_lab = shuffled_y[:int(n*split_percent)]\n",
    "    x_unlab = shuffled_x[int(n*split_percent):]\n",
    "    y_unlab = shuffled_y[int(n*split_percent):]\n",
    "    return x_lab, y_lab, x_unlab, y_unlab"
   ]
  },
  {
   "cell_type": "code",
   "execution_count": 6,
   "metadata": {},
   "outputs": [],
   "source": [
    "# We're going to use the GP in the same way multiple times, so let's create a function\n",
    "def GP_analysis(X, Y, X_grid):\n",
    "    # Use GP regression to fit the data\n",
    "    k = GPy.kern.RBF(X.shape[1])\n",
    "    m = GPy.models.SparseGPRegression(X, Y, k)\n",
    "\n",
    "    m.optimize('bfgs', max_iters=10)\n",
    "    \n",
    "    # Predict the mean and covariance of the GP fit over the grid\n",
    "    mean, variance = m.predict(X_grid, full_cov=False)\n",
    "    # variance = np.diag(Cov)\n",
    "    return mean, variance, m"
   ]
  },
  {
   "cell_type": "code",
   "execution_count": 7,
   "metadata": {},
   "outputs": [],
   "source": [
    "def GaussianProcess(x, y, split_percent, seed):\n",
    "    \"\"\" \n",
    "    Chooses next sample using gaussian process. Logs samples that have a label of 9.0\n",
    "    Input:\n",
    "    x (np.ndarray): Features. (N x m)\n",
    "    y (np.ndarray): Labels. (N)\n",
    "    split_percent (float): Percent of data to use for initial training set (labeled).\n",
    "    seed (float): seed for randomizer.\n",
    "\n",
    "    Output:\n",
    "    count (int): Number of samples with 9.0 label sampled.\n",
    "    percentages (list): Percent of samples with 9.0 labeled at each time step.\n",
    "    samples (np.ndarray): The samples with 9.0 labels.\n",
    "    \"\"\"\n",
    "    if y.ndim == 1:\n",
    "        y = y[:, np.newaxis]\n",
    "    # Split data into test and train.\n",
    "    x_lab, y_lab, x_unlab, y_unlab = SplitData(x,y,split_percent,seed)\n",
    "\n",
    "    Dsize = len(x)\n",
    "    BO_lambda = .1\n",
    "    BO_number_of_iterations = 1\n",
    "\n",
    "    count = 0\n",
    "    percentages = []\n",
    "    samples = []\n",
    "    for i in range(0, 200):\n",
    "        print(f'{i}', end = '\\r')\n",
    "\n",
    "        # Use GP regression to fit the data\n",
    "        mean, variance, m = GP_analysis(x_lab, y_lab, x_unlab)\n",
    "\n",
    "        # Compute UCB\n",
    "        BO_beta = 2 * math.log(Dsize * math.pow(BO_number_of_iterations,2) * math.pow(np.pi,2) / (6 * BO_lambda) )\n",
    "        alpha_full = mean + math.sqrt(BO_beta) * variance\n",
    "\n",
    "        # Find the next sample\n",
    "        next_sample_index = np.argmax(alpha_full)\n",
    "\n",
    "        # Logging metrics.\n",
    "        if y_unlab[next_sample_index] == 9.0:\n",
    "            count += 1\n",
    "            samples.append(x_unlab[next_sample_index])\n",
    "        percentages.append(count/(i + 1)*100)\n",
    "\n",
    "        # Remove chosen sample from unlabled and add to labled\n",
    "        x_lab = np.vstack((x_lab, x_unlab[next_sample_index]))\n",
    "        y_lab = np.vstack((y_lab, y_unlab[next_sample_index]))\n",
    "        x_unlab = np.delete(x_unlab, next_sample_index, axis = 0)\n",
    "        y_unlab = np.delete(y_unlab, next_sample_index)\n",
    "\n",
    "    samples, percentages = np.array(samples), np.array(percentages)\n",
    "    return count, percentages, samples\n"
   ]
  },
  {
   "cell_type": "code",
   "execution_count": 8,
   "metadata": {},
   "outputs": [
    {
     "name": "stdout",
     "output_type": "stream",
     "text": [
      "199\r"
     ]
    }
   ],
   "source": [
    "save = True\n",
    "count, percentages, samples = GaussianProcess(x, y, 0.8, 2024)\n",
    "\n",
    "if save:\n",
    "    np.save('results/GP_count.npy', count)\n",
    "    np.save('results/GP_percents.npy', percentages)\n",
    "    np.save('results/GP_samples.npy', samples)"
   ]
  },
  {
   "cell_type": "markdown",
   "metadata": {},
   "source": [
    "Random Process"
   ]
  },
  {
   "cell_type": "code",
   "execution_count": 12,
   "metadata": {},
   "outputs": [],
   "source": [
    "def RandomProcess(x, y, split_percent, seed):\n",
    "    \"\"\" \n",
    "    Chooses next sample randomly. Logs samples that have a label of 9.0\n",
    "    Input:\n",
    "    x (np.ndarray): Features. (N x m)\n",
    "    y (np.ndarray): Labels. (N)\n",
    "    split_percent (float): Percent of data to use for initial training set (labeled).\n",
    "    seed (float): seed for randomizer.\n",
    "\n",
    "    Output:\n",
    "    count (int): Number of samples with 9.0 label sampled.\n",
    "    percentages (list): Percent of samples with 9.0 labeled at each time step.\n",
    "    samples (np.ndarray): The samples with 9.0 labels.\n",
    "    \"\"\"\n",
    "    if y.ndim == 1:\n",
    "        y = y[:, np.newaxis]\n",
    "    rng = np.random.default_rng(seed)\n",
    "    x_lab, y_lab, x_unlab, y_unlab = SplitData(x,y,split_percent,seed)\n",
    "\n",
    "    count = 0\n",
    "    percentages = []\n",
    "    samples = []\n",
    "    for i in range(0, 200):\n",
    "        print(f'{i}', end = '\\r')\n",
    "        # Find the next sample\n",
    "        next_sample_index = rng.integers(0, x_unlab.shape[0], 1)\n",
    "\n",
    "        # Logging metrics.\n",
    "        if y_unlab[next_sample_index] == 9.0:\n",
    "            count += 1\n",
    "            samples.append(x_unlab[next_sample_index])\n",
    "        percentages.append(count/(i + 1)*100)\n",
    "\n",
    "        # Remove chosen sample from unlabled and add to labled\n",
    "        x_lab = np.vstack((x_lab, x_unlab[next_sample_index]))\n",
    "        y_lab = np.vstack((y_lab, y_unlab[next_sample_index]))\n",
    "        x_unlab = np.delete(x_unlab, next_sample_index, axis = 0)\n",
    "        y_unlab = np.delete(y_unlab, next_sample_index)\n",
    "\n",
    "    samples, percentages = np.array(samples), np.array(percentages)\n",
    "    return count, percentages, samples"
   ]
  },
  {
   "cell_type": "code",
   "execution_count": 13,
   "metadata": {},
   "outputs": [
    {
     "name": "stdout",
     "output_type": "stream",
     "text": [
      "199\r"
     ]
    }
   ],
   "source": [
    "save = True\n",
    "count, percentages, samples = RandomProcess(x, y, 0.8, 2024)\n",
    "\n",
    "if save:\n",
    "    np.save('results/RP_count.npy', count)\n",
    "    np.save('results/RP_percents.npy', percentages)\n",
    "    np.save('results/RP_samples.npy', samples)"
   ]
  },
  {
   "cell_type": "markdown",
   "metadata": {},
   "source": [
    "Visualization"
   ]
  },
  {
   "cell_type": "code",
   "execution_count": 17,
   "metadata": {},
   "outputs": [],
   "source": [
    "import matplotlib.pyplot as plt\n",
    "import numpy as np"
   ]
  },
  {
   "cell_type": "code",
   "execution_count": 18,
   "metadata": {},
   "outputs": [],
   "source": [
    "def ReadDataExercise3(filepath):\n",
    "    data = []\n",
    "    with open(filepath) as f:\n",
    "        f.readline()\n",
    "        for line in f:\n",
    "            line = line.strip().split(',')\n",
    "            data.append(line[-2:])        \n",
    "    return data\n",
    "\n",
    "filepath = 'ex3_data.csv'\n",
    "data = ReadDataExercise3(filepath)\n",
    "n = len(data)"
   ]
  },
  {
   "cell_type": "code",
   "execution_count": 21,
   "metadata": {},
   "outputs": [
    {
     "data": {
      "text/plain": [
       "Text(0.5, 1.0, 'Percent of new samples with 9.0 IC50')"
      ]
     },
     "execution_count": 21,
     "metadata": {},
     "output_type": "execute_result"
    },
    {
     "data": {
      "image/png": "[encoded data removed]",
      "text/plain": [
       "<Figure size 640x480 with 1 Axes>"
      ]
     },
     "metadata": {},
     "output_type": "display_data"
    }
   ],
   "source": [
    "paths = ['results/GP_percents.npy', 'results/RP_percents.npy']\n",
    "label = ['Gaussian Process', 'Random Process']\n",
    "\n",
    "fig, ax = plt.subplots(1)\n",
    "\n",
    "for i,path in enumerate(paths):\n",
    "    data = np.load(path)\n",
    "    x = np.arange(n-len(data), n)\n",
    "    handle, = ax.plot(x, data, label = label[i])\n",
    "    ax.legend()\n",
    "\n",
    "ax.set_ylabel('Percent')\n",
    "ax.set_xlabel('Number of Labeled Data Points')\n",
    "ax.set_title('Percent of new samples with 9.0 IC50')\n"
   ]
  },
  {
   "cell_type": "markdown",
   "metadata": {},
   "source": [
    "Seqlogo"
   ]
  },
  {
   "cell_type": "code",
   "execution_count": 25,
   "metadata": {},
   "outputs": [],
   "source": [
    "import seqlogo"
   ]
  },
  {
   "cell_type": "code",
   "execution_count": 26,
   "metadata": {},
   "outputs": [],
   "source": [
    "def ReverseOneHotEncodePeptide(sequence):\n",
    "    AminoAcids = [\n",
    "        \"G\", \"A\", \"S\", \"P\", \"V\",\n",
    "        \"T\", \"C\", \"I\", \"L\", \"N\",\n",
    "        \"D\", \"K\", \"Q\", \"E\", \"M\",\n",
    "        \"H\", \"F\", \"R\", \"Y\", \"W\"\n",
    "    ]\n",
    "    AminoAcids = sorted(AminoAcids)\n",
    "    AA_Dictionary = {i:key for i,key in enumerate(AminoAcids)}\n",
    "    \n",
    "    sequence = sequence.reshape(-1, 20)\n",
    "    decoded = ''\n",
    "    for row in sequence:\n",
    "        decoded += AA_Dictionary[np.argmax(row)]\n",
    "    return decoded"
   ]
  },
  {
   "cell_type": "code",
   "execution_count": 32,
   "metadata": {},
   "outputs": [],
   "source": [
    "GP_onehot = np.load('results/GP_samples.npy')\n",
    "RP_onehot = np.load('results/RP_samples.npy')\n",
    "\n",
    "GP_seqs = np.array([ReverseOneHotEncodePeptide(row) for row in GP_onehot])\n",
    "RP_seqs = np.array([ReverseOneHotEncodePeptide(row) for row in RP_onehot])"
   ]
  },
  {
   "cell_type": "code",
   "execution_count": 52,
   "metadata": {},
   "outputs": [],
   "source": [
    "save_files = ['GP_seqs.txt', 'RP_seqs.txt']\n",
    "seqs_lst = [GP_seqs, RP_seqs]\n",
    "for path, seqs in zip(save_files, seqs_lst):\n",
    "    with open(f'results/{path}', 'w') as f:\n",
    "        for seq in seqs:\n",
    "            f.write(str(seq))\n",
    "            f.write('\\n')"
   ]
  },
  {
   "cell_type": "code",
   "execution_count": 48,
   "metadata": {},
   "outputs": [
    {
     "name": "stderr",
     "output_type": "stream",
     "text": [
      "/var/folders/19/w_t82kk911n816gdrdxrwl0m0000gn/T/ipykernel_55895/2569634125.py:4: RuntimeWarning: invalid value encountered in divide\n",
      "  RP_pm = RP_pm/np.sum(RP_pm, axis = 0)\n"
     ]
    }
   ],
   "source": [
    "# GP_pm = np.sum(GP_onehot.reshape(GP_onehot.shape[0], -1, 20), axis = 0)\n",
    "# RP_pm = np.sum(RP_onehot.reshape(RP_onehot.shape[0], -1, 20), axis = 0)\n",
    "# GP_pm = GP_pm/np.sum(GP_pm, axis = 0)\n",
    "# RP_pm = RP_pm/np.sum(RP_pm, axis = 0)\n",
    "# GP_pm = seqlogo.Pfm(GP_pm, alphabet_type = \"AA\")\n",
    "# RP_pm = seqlogo.Pfm(RP_pm, alphabet_type = \"AA\")"
   ]
  },
  {
   "cell_type": "code",
   "execution_count": null,
   "metadata": {},
   "outputs": [],
   "source": []
  }
 ],
 "metadata": {
  "kernelspec": {
   "display_name": "venv",
   "language": "python",
   "name": "python3"
  },
  "language_info": {
   "codemirror_mode": {
    "name": "ipython",
    "version": 3
   },
   "file_extension": ".py",
   "mimetype": "text/x-python",
   "name": "python",
   "nbconvert_exporter": "python",
   "pygments_lexer": "ipython3",
   "version": "3.12.2"
  }
 },
 "nbformat": 4,
 "nbformat_minor": 2
}
