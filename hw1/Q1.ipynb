{
 "cells": [
  {
   "cell_type": "code",
   "execution_count": 5,
   "metadata": {},
   "outputs": [],
   "source": [
    "from sklearn.svm import SVC\n",
    "from sklearn.pipeline import make_pipeline\n",
    "from sklearn.preprocessing import StandardScaler\n",
    "from sklearn.metrics import log_loss\n",
    "import numpy as np\n",
    "import matplotlib.pyplot as plt\n",
    "from tqdm import tqdm"
   ]
  },
  {
   "cell_type": "markdown",
   "metadata": {},
   "source": [
    "# Question 1:\n",
    "Dataset used: Taiwanese Bankruptcy Prediction\n",
    "\n",
    "URL: https://archive.ics.uci.edu/dataset/572/taiwanese+bankruptcy+prediction"
   ]
  },
  {
   "cell_type": "code",
   "execution_count": 9,
   "metadata": {},
   "outputs": [
    {
     "name": "stdout",
     "output_type": "stream",
     "text": [
      "96 \n",
      " ['Bankrupt?', ' ROA(C) before interest and depreciation before interest', ' ROA(A) before interest and % after tax', ' ROA(B) before interest and depreciation after tax', ' Operating Gross Margin']\n",
      "(6819, 96)\n",
      "(6819, 95) (6819,)\n"
     ]
    }
   ],
   "source": [
    "# Checking the number of columns and looking at the column headers.\n",
    "with open('data.csv') as f:\n",
    "    fields = f.readline().split(',')\n",
    "print(len(fields),'\\n', fields[:5])\n",
    "# Reading in the data\n",
    "data = np.loadtxt('data.csv',delimiter=',', skiprows=1)\n",
    "print(data.shape)\n",
    "x = data[:,1:] # First column contains the labels\n",
    "y = data[:,0] # Labels of the data\n",
    "print(x.shape, y.shape)"
   ]
  },
  {
   "cell_type": "code",
   "execution_count": 22,
   "metadata": {},
   "outputs": [],
   "source": [
    "def CrossFoldValidate(x, y, model, num_split):\n",
    "    \"\"\"\n",
    "    Performs crossfold validation.\n",
    "    Input:\n",
    "    x (np.ndarray): feature data (num samples x num features)\n",
    "    y (np.ndarray): lable data (num samples)\n",
    "    model: The model used to perform the prediction\n",
    "    num_split: the number of splits we want to use.\n",
    "    \"\"\"\n",
    "    N, k = x.shape\n",
    "    split_size = N//num_split\n",
    "    # Create a list that contains the splits of the feature and labels\n",
    "    list_x = []\n",
    "    list_y = []\n",
    "    for i in range(num_split):\n",
    "        start = i*split_size\n",
    "        if i == num_split - 1:\n",
    "            end = N\n",
    "        else:\n",
    "            end = (i+1)*split_size\n",
    "        list_x.append(x[start:end])\n",
    "        list_y.append(y[start:end])\n",
    "\n",
    "    # Perform the crossfold validation. \n",
    "    cumulative_loss = 0\n",
    "    for i in range(num_split): \n",
    "        train_x = []\n",
    "        train_y = []\n",
    "        # Split the training and testing data for this iteration of cross-fold validation.\n",
    "        for j in range(num_split-1):\n",
    "            if j == 0:\n",
    "                train_x = list_x[i]\n",
    "                train_y = list_y[i]\n",
    "            else:\n",
    "                train_x = np.concatenate((train_x, list_x[(i+j)%num_split])) \n",
    "                train_y = np.concatenate((train_y, list_y[(i+j)%num_split])) \n",
    "        offline_model = model.fit(train_x,train_y)\n",
    "\n",
    "        test_x = list_x[(i+num_split-1)%num_split]\n",
    "        test_y = list_y[(i+num_split-1)%num_split]\n",
    "\n",
    "        # Predict on the split that wasn't trained on.\n",
    "        pred_y = offline_model.predict(test_x)\n",
    "\n",
    "        # Add to the cumulative loss.\n",
    "        cumulative_loss += log_loss(test_y, pred_y, normalize = False)\n",
    "        \n",
    "    # Normalize the cumulative loss before returning.\n",
    "    return cumulative_loss/N\n",
    "\n",
    "\n",
    "\n",
    "# Question 1\n",
    "def Question1(x,y,seed=2024):\n",
    "    N, k = x.shape\n",
    "\n",
    "    gen = np.random.default_rng(seed)\n",
    "    indexes = list(range(N))\n",
    "    gen.shuffle(indexes)\n",
    "\n",
    "    shuffled_x = x.copy()\n",
    "    shuffled_y = y.copy()\n",
    "    \n",
    "    shuffled_x = shuffled_x[indexes]\n",
    "    shuffled_y = shuffled_y[indexes]\n",
    "\n",
    "    # Initialize SVC model pipeline. Standard scale first to make values between 0 and 1.\n",
    "    model = make_pipeline(StandardScaler(), SVC())\n",
    "    offline_cumulative_loss = CrossFoldValidate(shuffled_x, shuffled_y, model, 5)\n",
    "\n",
    "    # Online Learning\n",
    "    model = make_pipeline(StandardScaler(), SVC())\n",
    "    online_cumulative_loss = 0\n",
    "\n",
    "    for i in range(5):\n",
    "        # Getting indicies for slicing the shuffled data.\n",
    "        low = N//2+N//10*i\n",
    "        if i < 4:\n",
    "            high = N//2+N//10*(i+1)\n",
    "        else:\n",
    "            high = N\n",
    "\n",
    "        online_model = model.fit(shuffled_x[:low], shuffled_y[:low])\n",
    "        pred_y = online_model.predict(shuffled_x[low:high])\n",
    "        online_cumulative_loss += log_loss(shuffled_y[low:high], pred_y, normalize=False)\n",
    "    online_cumulative_loss /= N/2\n",
    "\n",
    "\n",
    "    regret = online_cumulative_loss-offline_cumulative_loss\n",
    "    print('Regret: ', regret)\n",
    "    return regret"
   ]
  },
  {
   "cell_type": "code",
   "execution_count": 33,
   "metadata": {},
   "outputs": [
    {
     "name": "stdout",
     "output_type": "stream",
     "text": [
      "Regret:  -0.021143072819543862\n",
      "Regret:  0.05814345025374523\n",
      "Regret:  0.14271574153192002\n",
      "Regret:  0.07400075486840274\n",
      "Regret:  0.01585730461465773\n"
     ]
    }
   ],
   "source": [
    "regrets = []\n",
    "for i in range(5):\n",
    "    regrets.append(Question1(x,y,i*5000))\n",
    "regrets.append(np.mean(regrets))\n",
    "err = [0]*5\n",
    "err.append(np.std(regrets))"
   ]
  },
  {
   "cell_type": "code",
   "execution_count": 34,
   "metadata": {},
   "outputs": [
    {
     "data": {
      "text/plain": [
       "Text(0.5, 1.0, 'Online vs Offline Regret')"
      ]
     },
     "execution_count": 34,
     "metadata": {},
     "output_type": "execute_result"
    },
    {
     "data": {
      "image/png": "[encoded data removed]",
      "text/plain": [
       "<Figure size 640x480 with 1 Axes>"
      ]
     },
     "metadata": {},
     "output_type": "display_data"
    }
   ],
   "source": [
    "fig,ax = plt.subplots(1)\n",
    "ax.bar(range(6), regrets)\n",
    "ax.set_xticks(range(6), ['1', '2', '3', '4', '5', 'mean'])\n",
    "ax.errorbar(5, regrets[-1], err[-1],color = 'r', capsize = 5)\n",
    "ax.set_xlabel('Simulation Number')\n",
    "ax.set_ylabel('Regret')\n",
    "ax.set_title('Online vs Offline Regret')"
   ]
  },
  {
   "cell_type": "code",
   "execution_count": null,
   "metadata": {},
   "outputs": [],
   "source": []
  }
 ],
 "metadata": {
  "kernelspec": {
   "display_name": "venv",
   "language": "python",
   "name": "python3"
  },
  "language_info": {
   "codemirror_mode": {
    "name": "ipython",
    "version": 3
   },
   "file_extension": ".py",
   "mimetype": "text/x-python",
   "name": "python",
   "nbconvert_exporter": "python",
   "pygments_lexer": "ipython3",
   "version": "3.11.3"
  }
 },
 "nbformat": 4,
 "nbformat_minor": 2
}
